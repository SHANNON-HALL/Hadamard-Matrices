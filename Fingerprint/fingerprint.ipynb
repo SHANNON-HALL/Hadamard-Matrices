{
 "cells": [
  {
   "cell_type": "markdown",
   "metadata": {},
   "source": [
    "Shannon Hall\n",
    "\n",
    "7/23/25\n",
    "\n",
    "The fingerprint of a Hadamard matrix is an invariant for Hadamard matrices (if two Hadamard matrices are equivalent, then they have the same fingerprint). This program implements an algorithm to compute the fingerprint of a Hadamard matrix, as seen [here](https://arxiv.org/abs/1001.3062). We also include some examples of Hadamard matrices and their fingerprints."
   ]
  },
  {
   "cell_type": "markdown",
   "metadata": {},
   "source": [
    "# Implementing the algorithm"
   ]
  },
  {
   "cell_type": "code",
   "execution_count": 1,
   "metadata": {},
   "outputs": [],
   "source": [
    "import itertools as it\n",
    "import numpy as np\n",
    "import sympy as sp\n",
    "\n",
    "# Store the size of the matrices\n",
    "n = 7\n",
    "\n",
    "# Get a minor from the matrix M using the given rows and columns\n",
    "def minor(M, rows, cols):\n",
    "    minor = np.zeros((len(rows), len(cols)), dtype=complex)\n",
    "    minor = M[np.ix_(rows, cols)]\n",
    "    return minor\n",
    "\n",
    "# Some functions used for printing\n",
    "roundentries = lambda entry : sp.re(entry).round(3) + sp.im(entry).round(3) * sp.I\n",
    "quickdisplay = lambda M : display(sp.Matrix(M).applyfunc(roundentries))"
   ]
  },
  {
   "cell_type": "code",
   "execution_count": 2,
   "metadata": {},
   "outputs": [],
   "source": [
    "# Get all possible combinations of rows and columns for the desired minors\n",
    "all_combinations = {i : list(it.combinations(range(n), i)) for i in range(2, int(np.floor(n / 2)) + 1)}\n",
    "\n",
    "# Calculate the fingerprint of the given matrix\n",
    "def fingerprint(M):\n",
    "    result = {}\n",
    "    for size in all_combinations.keys():\n",
    "        pairs = {}\n",
    "        for rows, cols in it.product(all_combinations[size], repeat=2):\n",
    "            X = minor(M, rows, cols)\n",
    "            value = np.round(abs(np.linalg.det(X)), 10)\n",
    "            if value in pairs:\n",
    "                pairs[value] += 1\n",
    "            else:\n",
    "                pairs[value] = 1\n",
    "        sorted_pairs = dict(sorted(pairs.items()))\n",
    "        result[size] = sorted_pairs\n",
    "    return result"
   ]
  },
  {
   "cell_type": "markdown",
   "metadata": {},
   "source": [
    "# Looking at some examples"
   ]
  },
  {
   "cell_type": "code",
   "execution_count": 3,
   "metadata": {},
   "outputs": [
    {
     "name": "stdout",
     "output_type": "stream",
     "text": [
      "Fingerprint of Petrescu's matrix:\n",
      "{2: {0.0: 54, 1.0: 114, 1.7320508076: 177, 2.0: 96}, 3: {0.0: 60, 1.0: 36, 1.7320508076: 162, 2.0: 108, 2.6457513111: 111, 3.0: 210, 3.4641016151: 216, 3.6055512755: 54, 4.0: 110, 4.3588989435: 36, 4.582575695: 108, 5.1961524227: 14}}\n"
     ]
    }
   ],
   "source": [
    "# Store Petrescu's matrix\n",
    "x = np.exp(2 * np.pi  * 1j / 6)\n",
    "P_exponents = np.array([\n",
    "    [0, 0, 0, 0, 0, 0, 0],\n",
    "    [0, 1, 4, 5, 3, 3, 1],\n",
    "    [0, 4, 1, 3, 5, 3, 1],\n",
    "    [0, 5, 3, 1, 4, 1, 3],\n",
    "    [0, 3, 5, 4, 1, 1, 3],\n",
    "    [0, 3, 3, 1, 1, 4, 5],\n",
    "    [0, 1, 1, 3, 3, 5, 4]])\n",
    "P = np.power(x, P_exponents)\n",
    "\n",
    "# Get the fingerprint of Petrescu's matrix\n",
    "P_fingerprint = fingerprint(P)\n",
    "print('Fingerprint of Petrescu\\'s matrix:')\n",
    "print(P_fingerprint)"
   ]
  },
  {
   "cell_type": "code",
   "execution_count": 5,
   "metadata": {},
   "outputs": [
    {
     "name": "stdout",
     "output_type": "stream",
     "text": [
      "Fingerprint is the same: False\n",
      "{2: {0.0: 54, 1.0: 114, 1.7320508076: 177, 2.0: 96}, 3: {0.0: 60, 1.0: 36, 1.7320508076: 162, 2.0: 108, 2.6457513111: 111, 3.0: 210, 3.4641016151: 216, 3.6055512755: 54, 4.0: 110, 4.3588989435: 36, 4.582575695: 108, 5.1961524227: 14}}\n",
      "{2: {0.0: 50, 1.0: 122, 1.7320508076: 175, 2.0: 94}, 3: {0.0: 50, 1.0: 42, 1.7320508076: 181, 2.0: 106, 2.6457513111: 126, 3.0: 201, 3.4641016151: 203, 3.6055512755: 60, 4.0: 99, 4.3588989435: 37, 4.582575695: 108, 5.1961524227: 12}}\n",
      "\n",
      "P and F have the same fingerprint: False\n",
      "{2: {0.0: 54, 1.0: 114, 1.7320508076: 177, 2.0: 96}, 3: {0.0: 60, 1.0: 36, 1.7320508076: 162, 2.0: 108, 2.6457513111: 111, 3.0: 210, 3.4641016151: 216, 3.6055512755: 54, 4.0: 110, 4.3588989435: 36, 4.582575695: 108, 5.1961524227: 14}}\n",
      "{2: {0.8677674782: 147, 1.5636629649: 147, 1.9498558244: 147}, 3: {1.1774701055: 147, 2.6457513111: 588, 3.2991979214: 147, 3.7416573868: 196, 4.767479127: 147}}\n"
     ]
    }
   ],
   "source": [
    "# Alter P to see if it changes the fingerprint\n",
    "badP = np.copy(P)\n",
    "badP[1, 1] = 1\n",
    "\n",
    "badP_fingerprint = fingerprint(badP)\n",
    "print(f'Fingerprint is the same: {P_fingerprint == badP_fingerprint}')\n",
    "print(P_fingerprint)\n",
    "print(badP_fingerprint)\n",
    "\n",
    "# Compare to the fingerprint of F7\n",
    "def fourier(n):\n",
    "    x = np.exp(2 * np.pi * 1j / n)\n",
    "    return np.array([[x ** (i * j) for j in range(n)] for i in range(n)])\n",
    "F = fourier(7)\n",
    "\n",
    "F_fingerprint = fingerprint(F)\n",
    "print(f'\\nP and F have the same fingerprint: {P_fingerprint == F_fingerprint}')\n",
    "print(P_fingerprint)\n",
    "print(F_fingerprint)"
   ]
  }
 ],
 "metadata": {
  "kernelspec": {
   "display_name": "base",
   "language": "python",
   "name": "python3"
  },
  "language_info": {
   "codemirror_mode": {
    "name": "ipython",
    "version": 3
   },
   "file_extension": ".py",
   "mimetype": "text/x-python",
   "name": "python",
   "nbconvert_exporter": "python",
   "pygments_lexer": "ipython3",
   "version": "3.11.11"
  }
 },
 "nbformat": 4,
 "nbformat_minor": 2
}
