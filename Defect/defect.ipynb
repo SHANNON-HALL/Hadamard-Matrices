{
 "cells": [
  {
   "cell_type": "markdown",
   "metadata": {},
   "source": [
    "Shannon Hall\n",
    "\n",
    "7/29/25\n",
    "\n",
    "The (dephased) defect of a Hadamard matrix $H$ is the dimension of the tangent space of (dephased) Hadamard matrices at $H$, and it can be a useful tool when studying families of Hadamard matrices. In particular, it gives an upper bound on the number of parameters that a family passing through $H$ can contain. This program implements two algorithms that can be used to find the defect of a given Hadamard matrix. The first method relies on using commutators to find the dimension of the commutator subspace, and the second method uses a formula coming from group theory (with the second method only working for the fourier matrix $F_n$; the formula can be found [here](https://web.math.utk.edu/~rnicoara/defect.pdf)). We include some examples of Hadamard matrices and their defects."
   ]
  },
  {
   "cell_type": "markdown",
   "metadata": {},
   "source": [
    "# Defect Function (rank version)"
   ]
  },
  {
   "cell_type": "code",
   "execution_count": 5,
   "metadata": {},
   "outputs": [],
   "source": [
    "import numpy as np\n",
    "\n",
    "# This function computes the defect of the given matrix U. We create bases for P=D and Q=UDU*, then calculate all commutators [p, q] from these bases.\n",
    "# We then use the commutators as the columns of a matrix, and we calculate the defect using the rank of this matrix.\n",
    "def defect(U):\n",
    "    n = len(U)\n",
    "    P_basis = [np.array([[1 if (j == i and k == i) else 0 for k in range(n)] for j in range(n)]) for i in range(n)]\n",
    "    Q_basis = [U @ p @ U.conj().T for p in P_basis]\n",
    "    commutators = [p @ q - q @ p for p in P_basis for q in Q_basis]\n",
    "    commutator_matrix = np.array([sum(commutator.tolist(), []) for commutator in commutators]).T\n",
    "    return (n - 1)**2 - np.linalg.matrix_rank(commutator_matrix)"
   ]
  },
  {
   "cell_type": "markdown",
   "metadata": {},
   "source": [
    "## Fourier Matrices"
   ]
  },
  {
   "cell_type": "code",
   "execution_count": 12,
   "metadata": {},
   "outputs": [
    {
     "name": "stdout",
     "output_type": "stream",
     "text": [
      "defect of F02 is 00\n",
      "defect of F03 is 00\n",
      "defect of F04 is 01\n",
      "defect of F05 is 00\n",
      "defect of F06 is 04\n",
      "defect of F07 is 00\n",
      "defect of F08 is 05\n",
      "defect of F09 is 04\n",
      "defect of F10 is 08\n",
      "defect of F11 is 00\n",
      "defect of F12 is 17\n",
      "defect of F13 is 00\n",
      "defect of F14 is 12\n",
      "defect of F15 is 16\n",
      "defect of F16 is 17\n",
      "defect of F17 is 00\n",
      "defect of F18 is 28\n",
      "defect of F19 is 00\n",
      "defect of F20 is 33\n",
      "defect of F21 is 24\n",
      "defect of F22 is 20\n",
      "defect of F23 is 00\n",
      "defect of F24 is 53\n",
      "defect of F25 is 16\n",
      "defect of F26 is 24\n",
      "defect of F27 is 28\n",
      "defect of F28 is 49\n",
      "defect of F29 is 00\n",
      "defect of F30 is 76\n"
     ]
    }
   ],
   "source": [
    "# Get the nth Fourier matrix\n",
    "def fourier(n):\n",
    "    x = np.exp(2 * np.pi * 1j / n)\n",
    "    return np.array([[x**(j * k) for k in range(n)] for j in range(n)])\n",
    "\n",
    "# Calculate the defect for some Fourier matrices\n",
    "for n in range(2, 31):\n",
    "    F = fourier(n)\n",
    "    print(f'defect of F{n:02} is {defect(F):02}')"
   ]
  },
  {
   "cell_type": "markdown",
   "metadata": {},
   "source": [
    "## Petrescu's Matrix"
   ]
  },
  {
   "cell_type": "code",
   "execution_count": 11,
   "metadata": {},
   "outputs": [
    {
     "name": "stdout",
     "output_type": "stream",
     "text": [
      "defect of P7 is 3\n"
     ]
    }
   ],
   "source": [
    "# Create Petrescu's 7x7 matrix\n",
    "x = np.exp(2 * np.pi  * 1j / 6)\n",
    "P_exponents = np.array([\n",
    "    [0, 0, 0, 0, 0, 0, 0],\n",
    "    [0, 1, 4, 5, 3, 3, 1],\n",
    "    [0, 4, 1, 3, 5, 3, 1],\n",
    "    [0, 5, 3, 1, 4, 1, 3],\n",
    "    [0, 3, 5, 4, 1, 1, 3],\n",
    "    [0, 3, 3, 1, 1, 4, 5],\n",
    "    [0, 1, 1, 3, 3, 5, 4]])\n",
    "P = np.power(x, P_exponents)\n",
    "\n",
    "# Calculate the defect of Petrescu's matrix\n",
    "print(f'defect of P7 is {defect(P)}')"
   ]
  },
  {
   "cell_type": "markdown",
   "metadata": {},
   "source": [
    "## Petrescu's Family"
   ]
  },
  {
   "cell_type": "markdown",
   "metadata": {},
   "source": [
    "### Generic Values"
   ]
  },
  {
   "cell_type": "code",
   "execution_count": null,
   "metadata": {},
   "outputs": [
    {
     "name": "stdout",
     "output_type": "stream",
     "text": [
      "defect of P7(exp(i * 0.00)) is 3\n",
      "defect of P7(exp(i * 0.63)) is 2\n",
      "defect of P7(exp(i * 1.26)) is 2\n",
      "defect of P7(exp(i * 1.88)) is 2\n",
      "defect of P7(exp(i * 2.51)) is 2\n",
      "defect of P7(exp(i * 3.14)) is 3\n",
      "defect of P7(exp(i * 3.77)) is 2\n",
      "defect of P7(exp(i * 4.40)) is 2\n",
      "defect of P7(exp(i * 5.03)) is 2\n",
      "defect of P7(exp(i * 5.65)) is 2\n"
     ]
    }
   ],
   "source": [
    "# Create a matrix from Petrescu's family of 7x7 matrices\n",
    "def petrescu(c):\n",
    "    Pc = np.copy(P)\n",
    "    c_conjugate = np.conjugate(c)\n",
    "    for i in range(1, 3):\n",
    "        for j in range(1, 3):\n",
    "            Pc[i, j] *= c\n",
    "            Pc[i + 2, j + 2] *= c_conjugate\n",
    "    return Pc\n",
    "\n",
    "# Calculate the defect for some generic matrices in Petrescu's family\n",
    "generic_values = np.linspace(0, 2 * np.pi, num=10, endpoint=False)\n",
    "for t in generic_values:\n",
    "    c = np.exp(1j * t)\n",
    "    Pc = petrescu(c)\n",
    "    print(f'defect of P7(exp(i * {t:.2f})) is {defect(Pc)}')"
   ]
  },
  {
   "cell_type": "markdown",
   "metadata": {},
   "source": [
    "### Specific Values"
   ]
  },
  {
   "cell_type": "code",
   "execution_count": 23,
   "metadata": {},
   "outputs": [
    {
     "name": "stdout",
     "output_type": "stream",
     "text": [
      "defect of P7(exp(i * 0.00)) is 3\n",
      "defect of P7(exp(i * 1.05)) is 3\n",
      "defect of P7(exp(i * 2.09)) is 3\n",
      "defect of P7(exp(i * 3.14)) is 3\n"
     ]
    }
   ],
   "source": [
    "# Calculate the defect for some specific matrices in Petrescu's family\n",
    "specific_values = [0, np.pi / 3, 2 * np.pi / 3, np.pi]\n",
    "for t in specific_values:\n",
    "    c = np.exp(1j * t)\n",
    "    Pc = petrescu(c)\n",
    "    print(f'defect of P7(exp(i * {t:.2f})) is {defect(Pc)}')"
   ]
  },
  {
   "cell_type": "markdown",
   "metadata": {},
   "source": [
    "# Defect Function (group version)"
   ]
  },
  {
   "cell_type": "code",
   "execution_count": 24,
   "metadata": {},
   "outputs": [
    {
     "name": "stdout",
     "output_type": "stream",
     "text": [
      "defect of Z02 is 00\n",
      "defect of Z03 is 00\n",
      "defect of Z04 is 01\n",
      "defect of Z05 is 00\n",
      "defect of Z06 is 04\n",
      "defect of Z07 is 00\n",
      "defect of Z08 is 05\n",
      "defect of Z09 is 04\n",
      "defect of Z10 is 08\n",
      "defect of Z11 is 00\n",
      "defect of Z12 is 17\n",
      "defect of Z13 is 00\n",
      "defect of Z14 is 12\n",
      "defect of Z15 is 16\n",
      "defect of Z16 is 17\n",
      "defect of Z17 is 00\n",
      "defect of Z18 is 28\n",
      "defect of Z19 is 00\n",
      "defect of Z20 is 33\n",
      "defect of Z21 is 24\n",
      "defect of Z22 is 20\n",
      "defect of Z23 is 00\n",
      "defect of Z24 is 53\n",
      "defect of Z25 is 16\n",
      "defect of Z26 is 24\n",
      "defect of Z27 is 28\n",
      "defect of Z28 is 49\n",
      "defect of Z29 is 00\n",
      "defect of Z30 is 76\n"
     ]
    }
   ],
   "source": [
    "# This function calculates the (undephased) defect of the group Zn, or, equivalently, the defect of the Fourier matrix Fn\n",
    "# This is done by using the order of each element g in the group Zn\n",
    "ord = lambda g, n : n / np.gcd(g, n)\n",
    "undephased_group_defect1 = lambda n : sum(n / ord(g, n) for g in range(n)) - 2 * n + 1\n",
    "\n",
    "# After simplifying the above formula, we get simpler expressions for the defect of the group Zn\n",
    "undephased_group_defect2 = lambda n : sum(np.gcd(g, n) for g in range(n))\n",
    "dephased_group_defect = lambda n : sum(np.gcd(g, n) for g in range(n)) - 2 * n + 1\n",
    "\n",
    "# Calculate the defect for the group Zn\n",
    "for n in range(2, 31):\n",
    "    print(f'defect of Z{n:02} is {dephased_group_defect(n):02}')"
   ]
  }
 ],
 "metadata": {
  "kernelspec": {
   "display_name": "base",
   "language": "python",
   "name": "python3"
  },
  "language_info": {
   "codemirror_mode": {
    "name": "ipython",
    "version": 3
   },
   "file_extension": ".py",
   "mimetype": "text/x-python",
   "name": "python",
   "nbconvert_exporter": "python",
   "pygments_lexer": "ipython3",
   "version": "3.11.11"
  }
 },
 "nbformat": 4,
 "nbformat_minor": 2
}
